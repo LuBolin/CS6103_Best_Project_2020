{
 "cells": [
  {
   "cell_type": "code",
   "execution_count": 28,
   "metadata": {},
   "outputs": [],
   "source": [
    "import os\n",
    "from PIL import Image"
   ]
  },
  {
   "cell_type": "code",
   "execution_count": 29,
   "metadata": {},
   "outputs": [],
   "source": [
    "if not os.path.exists(os.getcwd()+\"\\\\Resized_Heads\"):\n",
    "    os.mkdir(os.getcwd()+\"\\\\Resized_Heads\")\n",
    "\n",
    "dimensions=(306,306)\n",
    "folder=os.getcwd()+\"\\\\heads\\\\\"\n",
    "for filename in os.listdir(folder):\n",
    "    image = Image.open(os.path.join(folder,filename))\n",
    "    new_image = image.resize(dimensions)\n",
    "    new_image.save(\"Resized_Heads\\\\\"+filename.split('.')[0]+\"_resized.jpg\")"
   ]
  },
  {
   "cell_type": "code",
   "execution_count": null,
   "metadata": {},
   "outputs": [],
   "source": []
  }
 ],
 "metadata": {
  "kernelspec": {
   "display_name": "Python 3",
   "language": "python",
   "name": "python3"
  },
  "language_info": {
   "codemirror_mode": {
    "name": "ipython",
    "version": 3
   },
   "file_extension": ".py",
   "mimetype": "text/x-python",
   "name": "python",
   "nbconvert_exporter": "python",
   "pygments_lexer": "ipython3",
   "version": "3.7.3"
  }
 },
 "nbformat": 4,
 "nbformat_minor": 2
}
