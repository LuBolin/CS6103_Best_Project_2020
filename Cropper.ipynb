{
 "cells": [
  {
   "cell_type": "code",
   "execution_count": 1,
   "metadata": {},
   "outputs": [],
   "source": [
    "import tkinter as tk\n",
    "import numpy as np\n",
    "from tkinter import Scale,ttk,Button,Text\n",
    "from PIL import Image, ImageTk\n",
    "import os"
   ]
  },
  {
   "cell_type": "code",
   "execution_count": 11,
   "metadata": {},
   "outputs": [
    {
     "name": "stdout",
     "output_type": "stream",
     "text": [
      "321\n"
     ]
    }
   ],
   "source": [
    "imageList=[]\n",
    "folder=os.getcwd()+\"\\\\images\"\n",
    "for filename in os.listdir(folder):\n",
    "    img=np.asarray(Image.open(os.path.join(folder,filename)))\n",
    "    if len(img.shape)<3: # Gif or Greyscale\n",
    "        continue\n",
    "    if img.shape[2]>3:\n",
    "        img=img[:,:,:3]\n",
    "    if img is not None:\n",
    "        imageList.append(img)\n",
    "print(len(imageList))\n",
    "if not os.path.exists(os.getcwd()+\"\\\\heads\"):\n",
    "    os.mkdir(os.getcwd()+\"\\\\heads\")"
   ]
  },
  {
   "cell_type": "code",
   "execution_count": 12,
   "metadata": {},
   "outputs": [],
   "source": [
    "def square_update(length):\n",
    "    global currentIndex,canvas,source,photoImg,origin\n",
    "    \n",
    "    length=int(length)\n",
    "    \n",
    "    if origin[0]+length>=len(source):\n",
    "        origin[0]=len(source)-1-length\n",
    "    if origin[1]+length>=len(source[0]):\n",
    "        origin[1]=len(source[1])-1-length    \n",
    "\n",
    "    toDraw=source.copy()\n",
    "    red=[255,0,0]\n",
    "        \n",
    "    for i in range(origin[0],origin[0]+length):\n",
    "        if i>=len(source):\n",
    "            i=len(source)-1\n",
    "        toDraw[i][origin[1]]=red\n",
    "        x=origin[1]+length\n",
    "        if x>=len(source[0]):\n",
    "            x=len(source[0])-1\n",
    "        toDraw[i][x]=red\n",
    "    for j in range(origin[1],origin[1]+length):\n",
    "        if j>=len(source[0]):\n",
    "            j=len(source[0])-1\n",
    "        toDraw[origin[0]][j]=red\n",
    "        x=origin[0]+length\n",
    "        if x>=len(source):\n",
    "            x=len(source)-1\n",
    "        toDraw[x][j]=red\n",
    "        \n",
    "    image=Image.fromarray(toDraw)\n",
    "    image=image.resize((canvas_width,canvas_height),resample=0)\n",
    "    photoImg=ImageTk.PhotoImage(image,master=canvas)\n",
    "    canvas.create_image(0,0,image=photoImg,anchor=\"nw\")"
   ]
  },
  {
   "cell_type": "code",
   "execution_count": 13,
   "metadata": {},
   "outputs": [],
   "source": [
    "def cropCurrent():\n",
    "    global source,origin,file_count,lengthSlider,text\n",
    "    length=lengthSlider.get()\n",
    "    sub_image=source[origin[0]:origin[0]+length,origin[1]:origin[1]+length]\n",
    "    image=Image.fromarray(sub_image)\n",
    "    image.save(\"heads\\\\\"+str(file_count)+\"_head.jpg\")\n",
    "    print(\"Cropped image saved at\",\"heads\\\\\"+str(file_count)+\"_head.jpg\")\n",
    "    file_count+=1\n",
    "    text.delete('1.0',tk.END)\n",
    "    text.insert(tk.END,\"Image Number: \"+str(currentIndex)+\"\\nFiles Saved: \"+str(file_count))"
   ]
  },
  {
   "cell_type": "code",
   "execution_count": 14,
   "metadata": {},
   "outputs": [],
   "source": [
    "def Up(event):\n",
    "    global pixel_per_move\n",
    "    pixel_per_move=int(pixel_per_move)\n",
    "    if origin[0]-pixel_per_move>=0:\n",
    "        origin[0]=origin[0]-pixel_per_move\n",
    "    else:\n",
    "        origin[0]=0\n",
    "    square_update(lengthSlider.get())\n",
    "def Down(event):\n",
    "    global pixel_per_move\n",
    "    pixel_per_move=int(pixel_per_move)\n",
    "    if origin[0]+pixel_per_move<len(source)-1:\n",
    "        origin[0]=origin[0]+pixel_per_move\n",
    "    else:\n",
    "        origin[0]=len(source)-1\n",
    "    square_update(lengthSlider.get())\n",
    "def Left(event):\n",
    "    global pixel_per_move\n",
    "    pixel_per_move=int(pixel_per_move)\n",
    "    if origin[1]-pixel_per_move>0:\n",
    "        origin[1]=origin[1]-pixel_per_move\n",
    "    else:\n",
    "        origin[1]=0\n",
    "    square_update(lengthSlider.get())\n",
    "def Right(event):\n",
    "    global pixel_per_move\n",
    "    pixel_per_move=int(pixel_per_move)\n",
    "    if origin[1]+pixel_per_move<len(source[0])-1:\n",
    "        origin[1]=origin[1]+pixel_per_move\n",
    "    else:\n",
    "        origin[1]=len(source[0])-1\n",
    "    square_update(lengthSlider.get())"
   ]
  },
  {
   "cell_type": "code",
   "execution_count": 15,
   "metadata": {},
   "outputs": [],
   "source": [
    "def loadImg():\n",
    "    global currentIndex,canvas,lengthSlider,source,photoImg,canvas_height,origin,text,file_count\n",
    "    if currentIndex==len(imageList):\n",
    "        print(\"Last image, program ends here.\")\n",
    "        root.destroy()\n",
    "        return\n",
    "    canvas.delete('all')\n",
    "    source=imageList[currentIndex]\n",
    "    currentIndex+=1\n",
    "    text.delete('1.0',tk.END)\n",
    "    text.insert(tk.END,\"Image Number: \"+str(currentIndex)+\"\\nFiles Saved: \"+str(file_count))\n",
    "    image=Image.fromarray(source)\n",
    "    size=image.size\n",
    "    max_length=min(size)-1\n",
    "    length=max_length\n",
    "    canvas_height=int(size[1]*(canvas_width/size[0]))\n",
    "    origin=[0,0]\n",
    "    image=image.resize((canvas_width,canvas_height),resample=0)\n",
    "    canvas.config(height=canvas_height)\n",
    "    photoImg=ImageTk.PhotoImage(image,master=canvas)\n",
    "    canvas.create_image(0,0,image=photoImg,anchor=\"nw\")\n",
    "    lengthSlider.config(to=max_length)\n",
    "    lengthSlider.set(max_length/2)"
   ]
  },
  {
   "cell_type": "code",
   "execution_count": 16,
   "metadata": {},
   "outputs": [],
   "source": [
    "def loadPrevious():\n",
    "    global currentIndex,text\n",
    "    if currentIndex>1:\n",
    "        currentIndex-=2\n",
    "        loadImg()\n",
    "    else:\n",
    "        text.insert(tk.END,\"\\nNo Previous image!\")"
   ]
  },
  {
   "cell_type": "code",
   "execution_count": 17,
   "metadata": {},
   "outputs": [],
   "source": [
    "def movement_update(value):\n",
    "    global pixel_per_move\n",
    "    pixel_per_move=value"
   ]
  },
  {
   "cell_type": "code",
   "execution_count": 232,
   "metadata": {},
   "outputs": [
    {
     "name": "stdout",
     "output_type": "stream",
     "text": [
      "Cropped image saved at heads\\0_head.jpg\n",
      "Cropped image saved at heads\\1_head.jpg\n",
      "Cropped image saved at heads\\2_head.jpg\n",
      "Cropped image saved at heads\\3_head.jpg\n",
      "Cropped image saved at heads\\4_head.jpg\n",
      "Cropped image saved at heads\\5_head.jpg\n",
      "Cropped image saved at heads\\6_head.jpg\n",
      "Last image, program ends here.\n"
     ]
    }
   ],
   "source": [
    "currentIndex=0\n",
    "file_count=0\n",
    "origin=[0,0]\n",
    "length=None\n",
    "canvas_width=640\n",
    "pixel_per_move=1\n",
    "canvas_height=None\n",
    "\n",
    "root=tk.Tk()\n",
    "\n",
    "canvas=tk.Canvas(root,width=canvas_width,height=canvas_width,borderwidth=0,highlightthickness=0)\n",
    "canvas.pack()\n",
    "\n",
    "crop=Button(root,text=\"Crop\",command=cropCurrent)\n",
    "crop.pack(side=\"bottom\")\n",
    "\n",
    "moveOn=Button(root,text=\"Next\",command=loadImg)\n",
    "moveOn.pack(side=\"bottom\")\n",
    "\n",
    "moveBack=Button(root,text=\"Previous\",command=loadPrevious)\n",
    "moveBack.pack(side=\"bottom\")\n",
    "movementSlider=None\n",
    "movementSlider=Scale(root,variable=pixel_per_move,orient=\"vertical\",from_=1,to=5, command=lambda value=movementSlider:movement_update(value))\n",
    "movementSlider.set(1)\n",
    "movementSlider.pack(side=\"right\")\n",
    "\n",
    "def scroll_movement(event):\n",
    "    movementSlider.set(movementSlider.get()+1*(event.delta/120))\n",
    "root.bind(\"<MouseWheel>\", scroll_movement)\n",
    "\n",
    "lengthSlider=None\n",
    "lengthSlider=Scale(root,variable=length,orient=\"horizontal\",from_=1,command=lambda value=lengthSlider:square_update(value),length=canvas_width*0.6)\n",
    "lengthSlider.set(int(lengthSlider.cget(\"to\")/2))\n",
    "lengthSlider.pack(side=\"bottom\")\n",
    "\n",
    "text=Text(root,height=3)\n",
    "text.insert(tk.END,\"Image Number: 0\\nFiles Saved:0\")\n",
    "text.pack()\n",
    "\n",
    "root.bind(\"<Up>\", Up)\n",
    "root.bind(\"<Down>\", Down)\n",
    "root.bind(\"<Left>\", Left)\n",
    "root.bind(\"<Right>\", Right)\n",
    "root.bind(\"w\", Up)\n",
    "root.bind(\"s\", Down)\n",
    "root.bind(\"a\", Left)\n",
    "root.bind(\"d\", Right)\n",
    "\n",
    "loadImg()\n",
    "square_update(lengthSlider.get())\n",
    "root.after(1, lambda: root.focus_force())\n",
    "root.mainloop()"
   ]
  },
  {
   "cell_type": "code",
   "execution_count": null,
   "metadata": {},
   "outputs": [],
   "source": []
  }
 ],
 "metadata": {
  "kernelspec": {
   "display_name": "Python 3",
   "language": "python",
   "name": "python3"
  },
  "language_info": {
   "codemirror_mode": {
    "name": "ipython",
    "version": 3
   },
   "file_extension": ".py",
   "mimetype": "text/x-python",
   "name": "python",
   "nbconvert_exporter": "python",
   "pygments_lexer": "ipython3",
   "version": "3.7.3"
  }
 },
 "nbformat": 4,
 "nbformat_minor": 4
}
